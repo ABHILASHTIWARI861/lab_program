{
  "nbformat": 4,
  "nbformat_minor": 0,
  "metadata": {
    "colab": {
      "provenance": [],
      "authorship_tag": "ABX9TyN2ZWUl7kviDBPA25tIEC4n",
      "include_colab_link": true
    },
    "kernelspec": {
      "name": "python3",
      "display_name": "Python 3"
    },
    "language_info": {
      "name": "python"
    }
  },
  "cells": [
    {
      "cell_type": "markdown",
      "metadata": {
        "id": "view-in-github",
        "colab_type": "text"
      },
      "source": [
        "<a href=\"https://colab.research.google.com/github/ABHILASHTIWARI861/lab_program/blob/main/dfs_program.ipynb\" target=\"_parent\"><img src=\"https://colab.research.google.com/assets/colab-badge.svg\" alt=\"Open In Colab\"/></a>"
      ]
    },
    {
      "cell_type": "code",
      "source": [
        "#Define the graph/tree structure using an adjacent list\n",
        "graph={\n",
        "    'A':['B','C'],\n",
        "    'B':['D','E'],\n",
        "    'C':['F'],\n",
        "    'D':[],\n",
        "    'E':[],\n",
        "    'F':[]\n",
        "    }"
      ],
      "metadata": {
        "id": "gNpZMgWrhNNk"
      },
      "execution_count": null,
      "outputs": []
    },
    {
      "cell_type": "code",
      "source": [
        "def dfs_using_stack(graph,start_node):\n",
        "    \"\"\"\n",
        "    Perform Depth=First Search (DFS) using an explicit stack,\n",
        "    \"\"\"\n",
        "    stack=[start_node]\n",
        "    visited=set()\n",
        "\n",
        "    while stack:\n",
        "        current_node=stack.pop()\n",
        "        if current_node not in visited:\n",
        "            print(current_node,end=\" \")\n",
        "            visited.add(current_node)\n",
        "\n",
        "            for neighbor in reversed(graph[current_node]):\n",
        "                if neighbor not in visited:\n",
        "                    stack.append(neighbor)\n",
        "    print()"
      ],
      "metadata": {
        "id": "TlWVS9DBh7_v"
      },
      "execution_count": null,
      "outputs": []
    },
    {
      "cell_type": "code",
      "source": [
        "print(\"DFS Traversal Order (Using Stack):\")\n",
        "dfs_using_stack(graph,'A')"
      ],
      "metadata": {
        "colab": {
          "base_uri": "https://localhost:8080/"
        },
        "id": "-iJhtBuNi4Nv",
        "outputId": "34000eef-9235-4d9e-ef3e-c68abdf4384b"
      },
      "execution_count": null,
      "outputs": [
        {
          "output_type": "stream",
          "name": "stdout",
          "text": [
            "DFS Traversal Order (Using Stack):\n",
            "A B D E C F \n"
          ]
        }
      ]
    }
  ]
}