{
  "nbformat": 4,
  "nbformat_minor": 0,
  "metadata": {
    "colab": {
      "provenance": [],
      "authorship_tag": "ABX9TyOEbbg/UCEYd087GS9TBH6+",
      "include_colab_link": true
    },
    "kernelspec": {
      "name": "python3",
      "display_name": "Python 3"
    },
    "language_info": {
      "name": "python"
    }
  },
  "cells": [
    {
      "cell_type": "markdown",
      "metadata": {
        "id": "view-in-github",
        "colab_type": "text"
      },
      "source": [
        "<a href=\"https://colab.research.google.com/github/ABHILASHTIWARI861/lab_program/blob/main/vacuum_cleaner.ipynb\" target=\"_parent\"><img src=\"https://colab.research.google.com/assets/colab-badge.svg\" alt=\"Open In Colab\"/></a>"
      ]
    },
    {
      "cell_type": "code",
      "execution_count": 1,
      "metadata": {
        "id": "IJFSwD4mWTJM"
      },
      "outputs": [],
      "source": [
        "def reflex_vacuum_agent(location,status):\n",
        "  if status == \"Dirty\":\n",
        "    return \"Suck\"\n",
        "  elif location ==\"A\":\n",
        "      return \"Right\"\n",
        "  elif location ==\"B\":\n",
        "      return \"left\""
      ]
    },
    {
      "cell_type": "code",
      "source": [
        "location=\"A\"\n",
        "status=\"Dirty\""
      ],
      "metadata": {
        "id": "XEvqu6dUXvQ4"
      },
      "execution_count": null,
      "outputs": []
    },
    {
      "cell_type": "code",
      "source": [
        "location=[\"A\",\"B\"]"
      ],
      "metadata": {
        "id": "S4wk5PJYYpmg"
      },
      "execution_count": null,
      "outputs": []
    },
    {
      "cell_type": "code",
      "source": [
        "for _ in range(5):\n",
        "    action=reflex_vacuum_agent(location,status)\n",
        "    print(f\"Location:{location},Status:{status},Action:{action}\")\n",
        "    if action==\"Suck\":\n",
        "       status=\"Clean\"\n",
        "    elif action==\"Right\":\n",
        "       location=\"B\"\n",
        "    elif action==\"Left\":\n",
        "      location=\"A\""
      ],
      "metadata": {
        "colab": {
          "base_uri": "https://localhost:8080/"
        },
        "id": "1B9m7izeYvuQ",
        "outputId": "7acb7ac5-db08-410f-e840-18743bc14187"
      },
      "execution_count": null,
      "outputs": [
        {
          "output_type": "stream",
          "name": "stdout",
          "text": [
            "Location:['A', 'B'],Status:Dirty,Action:Suck\n",
            "Location:['A', 'B'],Status:Clean,Action:None\n",
            "Location:['A', 'B'],Status:Clean,Action:None\n",
            "Location:['A', 'B'],Status:Clean,Action:None\n",
            "Location:['A', 'B'],Status:Clean,Action:None\n"
          ]
        }
      ]
    },
    {
      "cell_type": "code",
      "source": [
        "def display(room):\n",
        "  print(room)\n",
        "  room=[\n",
        "      [1,1,1,1],\n",
        "      [1,1,1,1],\n",
        "      [1,1,1,1],\n",
        "      [1,1,1,1],\n"
      ],
      "metadata": {
        "id": "TyJhQn_mbG1s"
      },
      "execution_count": null,
      "outputs": []
    }
  ]
}