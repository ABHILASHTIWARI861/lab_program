{
  "nbformat": 4,
  "nbformat_minor": 0,
  "metadata": {
    "colab": {
      "provenance": [],
      "authorship_tag": "ABX9TyO4mpYl4mOhFNR7hqnXuHQk",
      "include_colab_link": true
    },
    "kernelspec": {
      "name": "python3",
      "display_name": "Python 3"
    },
    "language_info": {
      "name": "python"
    }
  },
  "cells": [
    {
      "cell_type": "markdown",
      "metadata": {
        "id": "view-in-github",
        "colab_type": "text"
      },
      "source": [
        "<a href=\"https://colab.research.google.com/github/ABHILASHTIWARI861/lab_program/blob/main/bfs_program.ipynb\" target=\"_parent\"><img src=\"https://colab.research.google.com/assets/colab-badge.svg\" alt=\"Open In Colab\"/></a>"
      ]
    },
    {
      "cell_type": "code",
      "execution_count": 1,
      "metadata": {
        "id": "Y5xXrLdPnk2D"
      },
      "outputs": [],
      "source": [
        "from collections import deque"
      ]
    },
    {
      "cell_type": "code",
      "source": [
        "graph = {\n",
        "    'A': ['B', 'C'],\n",
        "    'B': ['D', 'E'],\n",
        "    'C': ['F'],\n",
        "    'D': [],\n",
        "    'E': [],\n",
        "    'F': []\n",
        "}"
      ],
      "metadata": {
        "id": "KmMLiTmtn1Zg"
      },
      "execution_count": 2,
      "outputs": []
    },
    {
      "cell_type": "code",
      "source": [
        "def bfs(graph, start_node):\n",
        "    \"\"\"\n",
        "    Perform breadth-first search (BFS) on the graph starting from the start node.\n",
        "    \"\"\"\n",
        "    visited = set()\n",
        "    queue = deque([start_node])\n",
        "    print(\"BFS traversal order:\")\n",
        "\n",
        "    while queue:\n",
        "        current_node = queue.popleft()\n",
        "        if current_node not in visited:\n",
        "            print(current_node, end=\" \")\n",
        "            visited.add(current_node)\n",
        "            for neighbor in graph[current_node]:\n",
        "                if neighbor not in visited:\n",
        "                    queue.append(neighbor)"
      ],
      "metadata": {
        "id": "3iBWJ2abn20w"
      },
      "execution_count": 3,
      "outputs": []
    },
    {
      "cell_type": "code",
      "source": [
        "bfs(graph, 'A')"
      ],
      "metadata": {
        "colab": {
          "base_uri": "https://localhost:8080/"
        },
        "id": "b18QAckZn99X",
        "outputId": "f119e451-578b-44e6-eb2c-60d04763744e"
      },
      "execution_count": 4,
      "outputs": [
        {
          "output_type": "stream",
          "name": "stdout",
          "text": [
            "BFS traversal order:\n",
            "A B C D E F "
          ]
        }
      ]
    }
  ]
}